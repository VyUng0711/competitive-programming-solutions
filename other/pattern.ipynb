{
 "cells": [
  {
   "cell_type": "code",
   "execution_count": 17,
   "metadata": {},
   "outputs": [],
   "source": [
    "def print_pattern(n, cur, go_back):\n",
    "    print(cur)\n",
    "    if go_back and n == cur:\n",
    "        return\n",
    "    if not go_back:\n",
    "        if cur - 5 > 0:\n",
    "            print_pattern(n, cur - 5, False)\n",
    "        else:\n",
    "            print_pattern(n, cur - 5, True)\n",
    "    else:\n",
    "        print_pattern(n, cur + 5, True)\n",
    "\n",
    "    "
   ]
  },
  {
   "cell_type": "code",
   "execution_count": 19,
   "metadata": {},
   "outputs": [
    {
     "name": "stdout",
     "output_type": "stream",
     "text": [
      "16\n",
      "11\n",
      "6\n",
      "1\n",
      "-4\n",
      "1\n",
      "6\n",
      "11\n",
      "16\n"
     ]
    }
   ],
   "source": [
    "print_pattern(16, 16, False)"
   ]
  },
  {
   "cell_type": "code",
   "execution_count": null,
   "metadata": {},
   "outputs": [],
   "source": [
    "def print_pattern(n):\n",
    "    print(\"print_pattern({})\".format(n))\n",
    "    if n == 0 or n < 0:\n",
    "        print(n)\n",
    "        return\n",
    "    # First print decreasing order\n",
    "    print(n)\n",
    "    print_pattern(n - 5)\n",
    "    # Then print increasing order\n",
    "    print(n)"
   ]
  },
  {
   "cell_type": "code",
   "execution_count": 23,
   "metadata": {},
   "outputs": [
    {
     "name": "stdout",
     "output_type": "stream",
     "text": [
      "print_pattern(16)\n",
      "16\n",
      "print_pattern(11)\n",
      "11\n",
      "print_pattern(6)\n",
      "6\n",
      "print_pattern(1)\n",
      "1\n",
      "print_pattern(-4)\n",
      "-4\n",
      "1\n",
      "6\n",
      "11\n",
      "16\n"
     ]
    }
   ],
   "source": [
    "print_pattern(16)"
   ]
  },
  {
   "cell_type": "code",
   "execution_count": 26,
   "metadata": {},
   "outputs": [
    {
     "name": "stdout",
     "output_type": "stream",
     "text": [
      "2 3 "
     ]
    }
   ],
   "source": [
    "x = [2, 3]\n",
    "for i in x:\n",
    "    print(i, end=' ')"
   ]
  },
  {
   "cell_type": "code",
   "execution_count": 109,
   "metadata": {},
   "outputs": [],
   "source": [
    "def print_a(a, n):\n",
    "    for i in range(0, n):\n",
    "        print(a[i], end = \" \")\n",
    "    print()"
   ]
  },
  {
   "cell_type": "code",
   "execution_count": 110,
   "metadata": {},
   "outputs": [],
   "source": [
    "def non_increasing_sequence(x, chosen, sum_so_far, curr_indx):\n",
    "    # print('non_increasing_sequence({}, {})'.format(x, sum_so_far))\n",
    "    # print('chosen', chosen)\n",
    "    if sum_so_far == x:\n",
    "        print_a(chosen, curr_indx)\n",
    "        return\n",
    "    else:\n",
    "        num = 1\n",
    "        while num <= x - sum_so_far and (curr_indx == 0 or num <= chosen[curr_indx - 1]):\n",
    "            chosen[curr_indx] = num\n",
    "            non_increasing_sequence(x, chosen, sum_so_far + num, curr_indx + 1)\n",
    "            num += 1"
   ]
  },
  {
   "cell_type": "code",
   "execution_count": 111,
   "metadata": {},
   "outputs": [],
   "source": [
    "def generate(x):\n",
    "    res = [None] * x\n",
    "    non_increasing_sequence(x, res, 0, 0)"
   ]
  },
  {
   "cell_type": "code",
   "execution_count": 113,
   "metadata": {},
   "outputs": [
    {
     "name": "stdout",
     "output_type": "stream",
     "text": [
      "1 1 1 1 1 1 \n",
      "2 1 1 1 1 \n",
      "2 2 1 1 \n",
      "2 2 2 \n",
      "3 1 1 1 \n",
      "3 2 1 \n",
      "3 3 \n",
      "4 1 1 \n",
      "4 2 \n",
      "5 1 \n",
      "6 \n"
     ]
    }
   ],
   "source": [
    "generate(5)"
   ]
  },
  {
   "cell_type": "code",
   "execution_count": 124,
   "metadata": {},
   "outputs": [],
   "source": [
    "def non_increasing_sequence(x, chosen, sum_so_far):\n",
    "    print('non_increasing_sequence({}, {}, {})'.format(x, chosen, sum_so_far))\n",
    "    if sum_so_far == x:\n",
    "        for a in chosen:\n",
    "            print(a, end=' ')\n",
    "        print()\n",
    "    else:\n",
    "        num = 1\n",
    "        while num <= x - sum_so_far and (len(chosen) == 0 or num <= chosen[-1]):\n",
    "            chosen.append(num)\n",
    "            non_increasing_sequence(x, chosen, sum_so_far + num)\n",
    "            chosen.pop()\n",
    "            num += 1\n",
    "            \n",
    "            \n",
    "        "
   ]
  },
  {
   "cell_type": "code",
   "execution_count": 125,
   "metadata": {},
   "outputs": [
    {
     "name": "stdout",
     "output_type": "stream",
     "text": [
      "non_increasing_sequence(5, [], 0)\n",
      "non_increasing_sequence(5, [1], 1)\n",
      "non_increasing_sequence(5, [1, 1], 2)\n",
      "non_increasing_sequence(5, [1, 1, 1], 3)\n",
      "non_increasing_sequence(5, [1, 1, 1, 1], 4)\n",
      "non_increasing_sequence(5, [1, 1, 1, 1, 1], 5)\n",
      "1 1 1 1 1 \n",
      "non_increasing_sequence(5, [2], 2)\n",
      "non_increasing_sequence(5, [2, 1], 3)\n",
      "non_increasing_sequence(5, [2, 1, 1], 4)\n",
      "non_increasing_sequence(5, [2, 1, 1, 1], 5)\n",
      "2 1 1 1 \n",
      "non_increasing_sequence(5, [2, 2], 4)\n",
      "non_increasing_sequence(5, [2, 2, 1], 5)\n",
      "2 2 1 \n",
      "non_increasing_sequence(5, [3], 3)\n",
      "non_increasing_sequence(5, [3, 1], 4)\n",
      "non_increasing_sequence(5, [3, 1, 1], 5)\n",
      "3 1 1 \n",
      "non_increasing_sequence(5, [3, 2], 5)\n",
      "3 2 \n",
      "non_increasing_sequence(5, [4], 4)\n",
      "non_increasing_sequence(5, [4, 1], 5)\n",
      "4 1 \n",
      "non_increasing_sequence(5, [5], 5)\n",
      "5 \n"
     ]
    }
   ],
   "source": [
    "non_increasing_sequence(5, [], 0)"
   ]
  },
  {
   "cell_type": "code",
   "execution_count": 159,
   "metadata": {},
   "outputs": [],
   "source": [
    "# Using backtracking:\n",
    "def print_all_n_digit_strictly_increasing_number(n, cur_num):\n",
    "    # print('print_all_n_digit_strictly_increasing_number({}, {})'.format(n, cur_num))\n",
    "    if len(cur_num) == n:\n",
    "        for i, d in enumerate(cur_num):\n",
    "            if i == len(cur_num) - 1:\n",
    "                print(d, end = ' ')\n",
    "            else:\n",
    "                print(d, end = '')\n",
    "\n",
    "            \n",
    "    else:\n",
    "        for i in range(10):\n",
    "            if len(cur_num) == 0 or i > cur_num[-1]:\n",
    "                cur_num.append(i)\n",
    "                print_all_n_digit_strictly_increasing_number(n, cur_num)\n",
    "                cur_num.pop()"
   ]
  },
  {
   "cell_type": "code",
   "execution_count": 161,
   "metadata": {},
   "outputs": [
    {
     "name": "stdout",
     "output_type": "stream",
     "text": [
      "012 013 014 015 016 017 018 019 023 024 025 026 027 028 029 034 035 036 037 038 039 045 046 047 048 049 056 057 058 059 067 068 069 078 079 089 123 124 125 126 127 128 129 134 135 136 137 138 139 145 146 147 148 149 156 157 158 159 167 168 169 178 179 189 234 235 236 237 238 239 245 246 247 248 249 256 257 258 259 267 268 269 278 279 289 345 346 347 348 349 356 357 358 359 367 368 369 378 379 389 456 457 458 459 467 468 469 478 479 489 567 568 569 578 579 589 678 679 689 789 "
     ]
    }
   ],
   "source": [
    "print_all_n_digit_strictly_increasing_number(3, [])"
   ]
  },
  {
   "cell_type": "code",
   "execution_count": null,
   "metadata": {},
   "outputs": [],
   "source": []
  }
 ],
 "metadata": {
  "kernelspec": {
   "display_name": "Python 3",
   "language": "python",
   "name": "python3"
  },
  "language_info": {
   "codemirror_mode": {
    "name": "ipython",
    "version": 3
   },
   "file_extension": ".py",
   "mimetype": "text/x-python",
   "name": "python",
   "nbconvert_exporter": "python",
   "pygments_lexer": "ipython3",
   "version": "3.7.0"
  }
 },
 "nbformat": 4,
 "nbformat_minor": 2
}
